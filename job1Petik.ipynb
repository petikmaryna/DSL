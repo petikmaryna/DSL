{
  "nbformat": 4,
  "nbformat_minor": 0,
  "metadata": {
    "colab": {
      "name": "job1Petik",
      "provenance": [],
      "collapsed_sections": [],
      "authorship_tag": "ABX9TyPwP58IWhDyPZvZq/uoJUUt",
      "include_colab_link": true
    },
    "kernelspec": {
      "name": "python3",
      "display_name": "Python 3"
    },
    "language_info": {
      "name": "python"
    }
  },
  "cells": [
    {
      "cell_type": "markdown",
      "metadata": {
        "id": "view-in-github",
        "colab_type": "text"
      },
      "source": [
        "<a href=\"https://colab.research.google.com/github/petikmaryna/DSL/blob/main/job1Petik.ipynb\" target=\"_parent\"><img src=\"https://colab.research.google.com/assets/colab-badge.svg\" alt=\"Open In Colab\"/></a>"
      ]
    },
    {
      "cell_type": "markdown",
      "metadata": {
        "id": "nOKIxhoWkG6V"
      },
      "source": [
        ""
      ]
    },
    {
      "cell_type": "markdown",
      "metadata": {
        "id": "ujqPfBaAhavf"
      },
      "source": [
        "Створення змінних, необхідних для роботи функції"
      ]
    },
    {
      "cell_type": "code",
      "metadata": {
        "id": "MJK2Mf6Khm42"
      },
      "source": [
        "whitespaces = [',', ' ', '.', ';', '\"', ')', '(', '\\n']\n",
        "#text = 'code.txt'\n",
        "text = ')(Simple,example;int.,print\"return'\n",
        "buff = ''\n",
        "finalText = []"
      ],
      "execution_count": 2,
      "outputs": []
    },
    {
      "cell_type": "markdown",
      "metadata": {
        "id": "jBaHflqligql"
      },
      "source": [
        "Перша змінна(whitespaces) - список символів, які враховуються за розподілювачі.\n",
        "Друга змінна(text) - текст, який треба обробити.\n",
        "Третя змінна(buff) - тимчасовий буфер, який знадобиться для роботи функції.\n",
        "Четверта змінна(finalText) - результуючий список."
      ]
    },
    {
      "cell_type": "code",
      "metadata": {
        "colab": {
          "base_uri": "https://localhost:8080/"
        },
        "id": "4-LHtRfNjw23",
        "outputId": "fc704a33-1d42-485f-f2a6-393346dd03e4"
      },
      "source": [
        "try:\n",
        "    fText = open(text, \"r\")\n",
        "    text = fText.read()\n",
        "    print(\"Code location: file\")\n",
        "except IOError:\n",
        "    print(\"Code location: variable\")"
      ],
      "execution_count": 3,
      "outputs": [
        {
          "output_type": "stream",
          "name": "stdout",
          "text": [
            "Code location: variable\n"
          ]
        }
      ]
    },
    {
      "cell_type": "markdown",
      "metadata": {
        "id": "F-VGf9r8j1HN"
      },
      "source": [
        "Спочатку треба дізнатися, чи містить text назву файла, в якому знаходиться текст, який треба перевірити. Якщо це так і файл існує, то в змінну text записується зміст файла. Якщо ні, то вважається, що в змінній text відразу був необхідний текст."
      ]
    },
    {
      "cell_type": "code",
      "metadata": {
        "id": "-tpXo2Mmk0vN"
      },
      "source": [
        "for symbol in text:\n",
        "    if symbol in whitespaces:\n",
        "        if buff:\n",
        "            finalText.append(buff)\n",
        "            buff = ''\n",
        "    else:\n",
        "        buff = buff + symbol"
      ],
      "execution_count": 4,
      "outputs": []
    },
    {
      "cell_type": "markdown",
      "metadata": {
        "id": "GarKRzhCk5cO"
      },
      "source": [
        "Далі у циклі перебираються символи тексту. Якщо цей символ є одним із тих, що необхідно прибрати, функція перевіряє буфер на заповненість і після цього додає зміст буфера до результуючого списку. Якщо ж ні, то символ додається до буфера."
      ]
    },
    {
      "cell_type": "code",
      "metadata": {
        "id": "FIfj8pWkmiIe"
      },
      "source": [
        "if buff:\n",
        "        finalText.append(buff)"
      ],
      "execution_count": 5,
      "outputs": []
    },
    {
      "cell_type": "markdown",
      "metadata": {
        "id": "g1islO8_mndF"
      },
      "source": [
        "Після завершення циклу треба ще раз перевірити, чи залишилось щось в буфері(бо в ситуаціі, де останнім символом був не розподільний символ, результуючий список не оновиться)."
      ]
    },
    {
      "cell_type": "code",
      "metadata": {
        "colab": {
          "base_uri": "https://localhost:8080/"
        },
        "id": "eDj3HlFNnSX2",
        "outputId": "2cbb3332-3999-4907-8aa5-d9af9642ed1a"
      },
      "source": [
        "print(finalText)"
      ],
      "execution_count": 6,
      "outputs": [
        {
          "output_type": "stream",
          "name": "stdout",
          "text": [
            "['Simple', 'example', 'int', 'print', 'return']\n"
          ]
        }
      ]
    },
    {
      "cell_type": "markdown",
      "metadata": {
        "id": "87YTpHUsnV0_"
      },
      "source": [
        "Друкування результату."
      ]
    }
  ]
}