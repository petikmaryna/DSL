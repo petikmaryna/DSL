{
  "nbformat": 4,
  "nbformat_minor": 0,
  "metadata": {
    "colab": {
      "name": "job2Petik.ipynb",
      "provenance": [],
      "collapsed_sections": [],
      "authorship_tag": "ABX9TyO2v6TktDA14Ent1oKUggtB",
      "include_colab_link": true
    },
    "kernelspec": {
      "name": "python3",
      "display_name": "Python 3"
    },
    "language_info": {
      "name": "python"
    }
  },
  "cells": [
    {
      "cell_type": "markdown",
      "metadata": {
        "id": "view-in-github",
        "colab_type": "text"
      },
      "source": [
        "<a href=\"https://colab.research.google.com/github/petikmaryna/DSL/blob/main/job2Petik.ipynb\" target=\"_parent\"><img src=\"https://colab.research.google.com/assets/colab-badge.svg\" alt=\"Open In Colab\"/></a>"
      ]
    },
    {
      "cell_type": "markdown",
      "metadata": {
        "id": "3RFwRo2g9f22"
      },
      "source": [
        "Створення прикладу грамматики:"
      ]
    },
    {
      "cell_type": "code",
      "metadata": {
        "id": "u7W3lOYX9n9m"
      },
      "source": [
        "import copy\n",
        "grammar = { 'toks': list(\n",
        "                    [(0, ' '),\n",
        "                     (11, 'aa'),\n",
        "                     (12, 'bb'),\n",
        "                     (21, 'ab'),\n",
        "                     (22, 'cc')]\n",
        "                    ),\n",
        "            'vars': {\n",
        "                'A': [['B', (11, 'aa')],\n",
        "                      ['D'],\n",
        "                      ['F', (12, 'bb')]],\n",
        "                'B': [['B'],\n",
        "                      ['F', (21, 'ab')]],\n",
        "                'C': [['C'],\n",
        "                      ['A',(22, 'cc')],\n",
        "                      ['F', (11, 'aa')]],\n",
        "                'D': [[(0, ' ')]],\n",
        "                'F': [\n",
        "                      ['B', (21, 'ab')],\n",
        "                      ['F', (12, 'bb')]]\n",
        "                    },\n",
        "            'hvar': 'A',\n",
        "            }\n"
      ],
      "execution_count": null,
      "outputs": []
    },
    {
      "cell_type": "markdown",
      "metadata": {
        "id": "0JssA1hp9wMQ"
      },
      "source": [
        "**Необхідно написати такі функції:**\n",
        "\n",
        "1) Функція для прибирання сторонніх нетерміналів.\n",
        "Для цієї функції був створений такий алгоритм: у циклі перебираються нетермінали та відповідні їм правила. Якщо нетермінал є не стороннім, то він залишається і додається до нового словника(при цьому перевіряється, чи не існує вже в словарі такий), якщо є стороннім - ігнорується. Також перебираються правила, які відповідають не стороннім нетерміналам: якщо правило містить сторонній нетермінал, то воно відкидається.     \n"
      ]
    },
    {
      "cell_type": "code",
      "metadata": {
        "id": "F1nrHa8IAAWT"
      },
      "source": [
        "def deleteExtSymb(grammar):\n",
        "    NonExt = searchNonExtSymb(grammar)\n",
        "    newGrammar = copy.deepcopy(grammar)\n",
        "    oldVars = grammar['vars']\n",
        "    toks = grammar['toks']\n",
        "    newVars = dict()\n",
        "    for varr, defin in oldVars.items():\n",
        "         if varr in NonExt:\n",
        "             for rules in defin:\n",
        "                 if checkTokenZ(rules, toks, NonExt):\n",
        "                    if varr in newVars.keys():\n",
        "                        newVars[varr].append(rules)\n",
        "                    else:\n",
        "                        newVars[varr] = list()\n",
        "                        newVars[varr].append(rules)\n",
        "    newGrammar['vars'] = newVars\n",
        "    return newGrammar\n",
        "    "
      ],
      "execution_count": null,
      "outputs": []
    },
    {
      "cell_type": "markdown",
      "metadata": {
        "id": "lUrjtMibBDRL"
      },
      "source": [
        "Не сторонні термінали визначаються допоміжною функцією, яка перевіряє, чи знаходяться в правилі у нетермінала тільки токени і/або вже відомі не сторонні нетермінали."
      ]
    },
    {
      "cell_type": "code",
      "metadata": {
        "id": "tiU-1XbiBPJS"
      },
      "source": [
        "def searchNonExtSymb(grammar):\n",
        "    tokens = grammar['toks']\n",
        "    variables = grammar['vars']\n",
        "    NonExtSymb = list()\n",
        "    flag = True\n",
        "    while flag:\n",
        "        flag = False\n",
        "        for var, definition in variables.items():\n",
        "            for rule in definition:\n",
        "                if checkTokenZ(rule, tokens,NonExtSymb):\n",
        "                    if var not in NonExtSymb:\n",
        "                        NonExtSymb.append(var)\n",
        "                        flag = True\n",
        "    return NonExtSymb"
      ],
      "execution_count": null,
      "outputs": []
    },
    {
      "cell_type": "markdown",
      "metadata": {
        "id": "mQL9NtnHCaEs"
      },
      "source": [
        "Допоміжна функція, яка перевіряє правила."
      ]
    },
    {
      "cell_type": "code",
      "metadata": {
        "id": "agm5dJuUCl8G"
      },
      "source": [
        "def checkTokenZ(rule, Tokens, someList):\n",
        "    for partOfRule in rule:\n",
        "        if partOfRule in Tokens or partOfRule in someList:\n",
        "            pass\n",
        "        else:\n",
        "            return False\n",
        "    return True"
      ],
      "execution_count": null,
      "outputs": []
    },
    {
      "cell_type": "markdown",
      "metadata": {
        "id": "Z0BlGYqqCsqt"
      },
      "source": [
        "Вивід функції: \n",
        "\n",
        "```\n",
        "{'toks': \n",
        "  [(0, ' '), \n",
        "  (11, 'aa'), \n",
        "  (12, 'bb'), \n",
        "  (21, 'ab'), \n",
        "  (22, 'cc')], \n",
        "'vars': \n",
        "{'A': [['D']], \n",
        " 'C': [['C'], ['A', (22, 'cc')]], \n",
        " 'D': [[(0, ' ')]]\n",
        " }, \n",
        " 'hvar': 'A'}\n",
        "```\n",
        "Усі сторонні нетермінали були прибрані."
      ]
    },
    {
      "cell_type": "markdown",
      "metadata": {
        "id": "oaMcaiUxDdeL"
      },
      "source": [
        "2) Функція для визначення зникаючих символів.\n",
        "В основу цієї функції полягли допоміжні функції з попереднього завдання(перетерпівши мінімальні зміни).\n",
        "Візьмемо за зникаючий токен (0, ' '). Тоді функція для пошуку нетерміналів, які є зникаючими, має такий алгоритм: перебираються нетермінали і відокремлюються ті, які мають в своїх правилах або зникаючий токен, або/і зникаючий відомий нетермінал.\n"
      ]
    },
    {
      "cell_type": "code",
      "metadata": {
        "id": "4Rwsl4DbELcS"
      },
      "source": [
        "def searchDisappSymb(grammar):\n",
        "    tokens = grammar['toks']\n",
        "    variables = grammar['vars']\n",
        "    emptySymb = list()\n",
        "    flag = True\n",
        "    \n",
        "    while flag:\n",
        "        flag = False\n",
        "        for var, definition in variables.items():\n",
        "            for rule in definition:\n",
        "                if checkToken(rule, tokens[0],emptySymb):\n",
        "                    if var not in emptySymb:\n",
        "                        emptySymb.append(var)\n",
        "                        flag = True\n",
        "    return emptySymb"
      ],
      "execution_count": 1,
      "outputs": []
    },
    {
      "cell_type": "markdown",
      "metadata": {
        "id": "CbUBi5lKFDuA"
      },
      "source": [
        "Допоміжна функція виглядає так:"
      ]
    },
    {
      "cell_type": "code",
      "metadata": {
        "id": "el4gG1K-Fa7j"
      },
      "source": [
        "def checkToken(rule, Token, someList):\n",
        "    for partOfRule in rule:\n",
        "        if partOfRule == Token or partOfRule in someList:\n",
        "            pass\n",
        "        else:\n",
        "            return False\n",
        "    return True"
      ],
      "execution_count": null,
      "outputs": []
    },
    {
      "cell_type": "markdown",
      "metadata": {
        "id": "F7Ws2f3dFhUs"
      },
      "source": [
        "Вивід функції: \n",
        "\n",
        "\n",
        "```\n",
        "['D', 'A']\n",
        "```\n",
        "\n"
      ]
    }
  ]
}