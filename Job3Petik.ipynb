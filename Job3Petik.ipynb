{
  "nbformat": 4,
  "nbformat_minor": 0,
  "metadata": {
    "colab": {
      "name": "Job3Petik.ipynb",
      "provenance": [],
      "collapsed_sections": [],
      "authorship_tag": "ABX9TyMw601iX1AO4hI6JzyP6Sa5",
      "include_colab_link": true
    },
    "kernelspec": {
      "name": "python3",
      "display_name": "Python 3"
    },
    "language_info": {
      "name": "python"
    }
  },
  "cells": [
    {
      "cell_type": "markdown",
      "metadata": {
        "id": "view-in-github",
        "colab_type": "text"
      },
      "source": [
        "<a href=\"https://colab.research.google.com/github/petikmaryna/DSL/blob/main/Job3Petik.ipynb\" target=\"_parent\"><img src=\"https://colab.research.google.com/assets/colab-badge.svg\" alt=\"Open In Colab\"/></a>"
      ]
    },
    {
      "cell_type": "markdown",
      "source": [
        "(за основу були взяті матеріали з [цієї](https://neerc.ifmo.ru/wiki/index.php?title=%D0%9F%D0%BE%D1%81%D1%82%D1%80%D0%BE%D0%B5%D0%BD%D0%B8%D0%B5_FIRST_%D0%B8_FOLLOW) та [цієї](https://www.cs.uaf.edu/~cs331/notes/FirstFollow.pdf) сторінок)"
      ],
      "metadata": {
        "id": "4SGDgCu19Ood"
      }
    },
    {
      "cell_type": "code",
      "execution_count": 1,
      "metadata": {
        "id": "SejSglu46NTi"
      },
      "outputs": [],
      "source": [
        "\n",
        "grammar = {\n",
        "    'toks': set( [\n",
        "        ('bracket', '('), \n",
        "        ('bracket', ')'), \n",
        "        ('plus', '+'), \n",
        "        ('mul', '*'),\n",
        "        ('0', '')\n",
        "    ] ),\n",
        "    'vars': {\n",
        "        'E' : [['T', 'E1']],\n",
        "        'E1' : [[('plus', '+'), 'T', 'E1'],\n",
        "               [('0', '')]],\n",
        "        'T' : [['F', 'T1']],\n",
        "        'T1' : [[('mul', '*'), 'F', 'T1'],\n",
        "               [('0', '')]],\n",
        "        'F' : [[('bracket', '('), 'E', ('bracket', ')')],\n",
        "               [('0', '')]]\n",
        "    },\n",
        "    'hvar': 'E'\n",
        "}"
      ]
    },
    {
      "cell_type": "markdown",
      "source": [
        "# **1. Програма, що генерує функцію FIRST(Х)**\n",
        "Якщо А — це рядок із символів, що входять до Граматики, тоді FIRST(А) — це множина терміналів, з яких починаються рядки, що походять з А. Якщо A ⇒ ε, тоді ε також належить FIRST(А).\n",
        "Щоб обчислити FIRST(X) для всіх X символів, що входять до Граматики, треба застосувати наступні правила, доки не залишилося терміналів або ε, які можна додати до будь-якої множини FIRST(X): \n",
        "1. Якщо X термінал, тоді FIRST(X) це {X}.\n",
        "2. Якщо X ⇒ ε правило, тоді треба додати ε до FIRST(X).\n",
        "3. Якщо X нетермінал і X ⇒ Y1, Y2 ... Yk правило, тоді треба додати а до FIRST(X), якщо для якого-небудь і а входить до FIRST(Yi), а також ε належить до кожної з множин FIRST(Y1), ... , FIRST(Yi-1), що результує в Y1, ... ,Yi-1 ⇒ ε. \n",
        "\n",
        "Якщо ε належить до FIRST(Yj) для кожного j = 1, 2, ... , k, тоді треба додати ε до FIRST(X)(тобто усі елементи множини FIRST(Y1) також належать до FIRST(X)). Якщо Y1 не переходить в ε, тоді до FIRST(X) нічого більше не додається, але якщо Y1 ⇒ ε, тоді ми додаємо FIRST(Y2) і так далі."
      ],
      "metadata": {
        "id": "ai6oAwA19J9t"
      }
    },
    {
      "cell_type": "code",
      "source": [
        "def first(X, rules, tokens):\n",
        "  resultingSet = set()\n",
        "  \n",
        "  if len(rules) == 0:\n",
        "    return resultingSet \n",
        "  \n",
        "  for rule in rules[X]:\n",
        "    if rule[0] in tokens:\n",
        "      resultingSet.add(rule[0])\n",
        "    else: \n",
        "      resultingSet = resultingSet.union(first(rule[0], rules, tokens)) \n",
        "      \n",
        "  return resultingSet"
      ],
      "metadata": {
        "id": "a_uVB8irEL3i"
      },
      "execution_count": null,
      "outputs": []
    },
    {
      "cell_type": "markdown",
      "source": [
        "# **2. Програма, що генерує функцію FOLLOW**\n",
        "\n",
        "Для нетерміналу A визначимо FOLLOW(A) як множину терміналів, які можуть з`явитися відразу справа до А у якій-небуть сентенційній конструкції, тобто таку множину темніналів, для яких існує правило форми  S ⇒ aAab для деяких a і b. Якщо А може з`явитися з правого краю в якій-небудь сентенційній формі, тоді до FOLLOW(A) додається пустий символ, репрезентуючий маркер правого кінця.\n",
        "Щоб знайти FOLLOW(A) треба слідувати алгоритму до тих пір, доки нічого нового не додасться до множини:\n",
        "1. Треба додати (пустий символ) до FOLLOW(s), де S стартовий символ і (пустий символ) маркер лівого кінця.\n",
        "2. Якщо існує правило A ⇒ aBb, тоді усі елементи множини FIRST(b), окрім e, додається до FOLLOW(B).\n",
        "3. Якщо існує правило A ⇒ aB, або правило A ⇒ aBb, де FIRST(b) включає e (i.e., b ⇒ e), тоді усі елементи множини FOLLOW(A) належать і множині FOLLOW(B)."
      ],
      "metadata": {
        "id": "U2ZA74a4EfJk"
      }
    },
    {
      "cell_type": "code",
      "source": [
        "def FOLLOWALL(grammar):\n",
        "\n",
        "  def FIRSTforSeq(seq):\n",
        "    result = set()\n",
        "    for symbol in seq:\n",
        "      if symbol in tokens:  \n",
        "        result.add(symbol)\n",
        "        return result\n",
        "      else:\n",
        "        result = set.union(result, dictFIRST[symbol])\n",
        "        if endlSymb not in dictFIRST[symbol]:\n",
        "          return result\n",
        "        else:\n",
        "          result.remove(endlSymb) \n",
        "\n",
        "    result.add(endlSymb)  \n",
        "    return result\n",
        " \n",
        "\n",
        "  nonterms = grammar['vars'].keys()\n",
        "  tokens = grammar['toks']\n",
        "  startNonTerm = grammar['hvar']\n",
        "\n",
        "  resultDict = {}\n",
        "  for nt in nonterms:\n",
        "    resultDict[nt] = (set())\n",
        "\n",
        "  dictFIRST = {}\n",
        "  for nt in nonterms:\n",
        "    dictFIRST[nt] = first(nt, grammar['vars'], tokens)\n",
        "  \n",
        "  endlSymb = ('0', '')\n",
        "  resultDict[startNonTerm].add(endlSymb)\n",
        "\n",
        "  changed = True\n",
        "  while changed:\n",
        "    changed = False\n",
        "    for nonterm, rules in grammar['vars'].items():\n",
        "      for rule in rules:\n",
        "        for index, symbol in enumerate(rule):\n",
        "          if symbol in nonterms:\n",
        "            endSeqFIRST =  FIRSTforSeq(rule[index+1:])\n",
        "            prevLen = len(resultDict[symbol])\n",
        "\n",
        "            if endlSymb in endSeqFIRST:\n",
        "              endSeqFIRST.remove(endlSymb)\n",
        "              resultDict[symbol] = resultDict[symbol].union(resultDict[nonterm])\n",
        "\n",
        "            resultDict[symbol] = resultDict[symbol].union(endSeqFIRST) \n",
        "                                                                      \n",
        "\n",
        "            newLen = len(resultDict[symbol])\n",
        "            if newLen != prevLen:\n",
        "              changed = True\n",
        "  return resultDict"
      ],
      "metadata": {
        "id": "4ttjTuzVMGnx"
      },
      "execution_count": null,
      "outputs": []
    },
    {
      "cell_type": "code",
      "source": [
        "print(first('E1', grammar['vars'], grammar['toks']))\n",
        "print(FOLLOWALL(grammar))"
      ],
      "metadata": {
        "id": "G-UGMMwXPCAz"
      },
      "execution_count": null,
      "outputs": []
    },
    {
      "cell_type": "code",
      "source": [
        "{('plus', '+'), ('0', '')}\n",
        "{'E': {('bracket', ')'), ('0', '')},\n",
        " 'E1': {('bracket', ')'), ('0', '')}, \n",
        " 'T': {('bracket', ')'), ('plus', '+'), ('0', '')}, \n",
        " 'T1': {('bracket', ')'), ('plus', '+'), ('0', '')}, \n",
        " 'F': {('bracket', ')'), ('mul', '*'), ('plus', '+'), ('0', '')}}"
      ],
      "metadata": {
        "id": "J1-yLY6FPGD7"
      },
      "execution_count": null,
      "outputs": []
    }
  ]
}