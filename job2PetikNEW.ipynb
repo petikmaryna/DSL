{
  "nbformat": 4,
  "nbformat_minor": 0,
  "metadata": {
    "colab": {
      "name": "job2Petik.ipynb",
      "provenance": [],
      "collapsed_sections": [],
      "authorship_tag": "ABX9TyP0JNy6Osu+582Bz2LdqOXt",
      "include_colab_link": true
    },
    "kernelspec": {
      "name": "python3",
      "display_name": "Python 3"
    },
    "language_info": {
      "name": "python"
    }
  },
  "cells": [
    {
      "cell_type": "markdown",
      "metadata": {
        "id": "view-in-github",
        "colab_type": "text"
      },
      "source": [
        "<a href=\"https://colab.research.google.com/github/petikmaryna/DSL/blob/main/job2PetikNEW.ipynb\" target=\"_parent\"><img src=\"https://colab.research.google.com/assets/colab-badge.svg\" alt=\"Open In Colab\"/></a>"
      ]
    },
    {
      "cell_type": "markdown",
      "metadata": {
        "id": "3RFwRo2g9f22"
      },
      "source": [
        "Створення прикладу грамматики:"
      ]
    },
    {
      "cell_type": "code",
      "metadata": {
        "id": "u7W3lOYX9n9m"
      },
      "source": [
        "import copy\n",
        "grammar = { 'toks': list(\n",
        "                    [(0, ' '),\n",
        "                     (11, 'aa'),\n",
        "                     (12, 'bb'),\n",
        "                     (21, 'ab'),\n",
        "                     (22, 'cc')]\n",
        "                    ),\n",
        "            'vars': {\n",
        "                'A': [['B', (11, 'aa')],\n",
        "                      ['D'],\n",
        "                      ['F', (12, 'bb')]],\n",
        "                'B': [['B'],\n",
        "                      ['F', (21, 'ab')]],\n",
        "                'C': [['C'],\n",
        "                      ['A',(22, 'cc')],\n",
        "                      ['F', (11, 'aa')]],\n",
        "                'D': [[(0, ' ')]],\n",
        "                'F': [\n",
        "                      ['B', (21, 'ab')],\n",
        "                      ['F', (12, 'bb')]]\n",
        "                'R': [[(12, 'bb')]]\n",
        "                    },\n",
        "            'hvar': 'A',\n",
        "            }\n"
      ],
      "execution_count": null,
      "outputs": []
    },
    {
      "cell_type": "markdown",
      "metadata": {
        "id": "0JssA1hp9wMQ"
      },
      "source": [
        "**Необхідно написати такі функції:**\n",
        "\n",
        "1) Функція для прибирання сторонніх нетерміналів.\n",
        "Для того, щоб прибрати з грамматики усі сторонні символи, треба створити декілька алгоритмів.\n",
        "Перший алгоритм, який прибирає непродуктивні нетермінали: у циклі перебираються нетермінали та відповідні їм правила. Якщо нетермінал не є непродуктивним, то він залишається і додається до нового словника(при цьому перевіряється, чи не існує вже в словарі такий), якщо є непродуктивним - ігнорується. Також перебираються правила, які відповідають продуктивним нетерміналам: якщо правило містить непродуктивний нетермінал, то воно відкидається.     \n"
      ]
    },
    {
      "cell_type": "code",
      "metadata": {
        "id": "F1nrHa8IAAWT"
      },
      "source": [
        "def deleteExtSymb(grammar):\n",
        "    NonExt = searchNonExtSymb(grammar)\n",
        "    newGrammar = copy.deepcopy(grammar)\n",
        "    oldVars = grammar['vars']\n",
        "    toks = grammar['toks']\n",
        "    newVars = dict()\n",
        "    for varr, defin in oldVars.items():\n",
        "         if varr in NonExt:\n",
        "             for rules in defin:\n",
        "                 if checkTokenZ(rules, toks, NonExt):\n",
        "                    if varr in newVars.keys():\n",
        "                        newVars[varr].append(rules)\n",
        "                    else:\n",
        "                        newVars[varr] = list()\n",
        "                        newVars[varr].append(rules)\n",
        "    newGrammar['vars'] = newVars\n",
        "    return newGrammar\n",
        "    "
      ],
      "execution_count": null,
      "outputs": []
    },
    {
      "cell_type": "markdown",
      "metadata": {
        "id": "lUrjtMibBDRL"
      },
      "source": [
        "Продуктивні нетермінали визначаються допоміжною функцією, яка перевіряє, чи знаходяться в правилі у нетермінала тільки токени і/або вже відомі продуктивні нетермінали."
      ]
    },
    {
      "cell_type": "code",
      "metadata": {
        "id": "tiU-1XbiBPJS"
      },
      "source": [
        "def searchNonExtSymb(grammar):\n",
        "    tokens = grammar['toks']\n",
        "    variables = grammar['vars']\n",
        "    NonExtSymb = list()\n",
        "    flag = True\n",
        "    while flag:\n",
        "        flag = False\n",
        "        for var, definition in variables.items():\n",
        "            for rule in definition:\n",
        "                if checkTokenZ(rule, tokens,NonExtSymb):\n",
        "                    if var not in NonExtSymb:\n",
        "                        NonExtSymb.append(var)\n",
        "                        flag = True\n",
        "    return NonExtSymb"
      ],
      "execution_count": null,
      "outputs": []
    },
    {
      "cell_type": "markdown",
      "metadata": {
        "id": "mQL9NtnHCaEs"
      },
      "source": [
        "Допоміжна функція, яка перевіряє правила."
      ]
    },
    {
      "cell_type": "code",
      "metadata": {
        "id": "agm5dJuUCl8G"
      },
      "source": [
        "def checkTokenZ(rule, Tokens, someList):\n",
        "    for partOfRule in rule:\n",
        "        if partOfRule in Tokens or partOfRule in someList:\n",
        "            pass\n",
        "        else:\n",
        "            return False\n",
        "    return True"
      ],
      "execution_count": null,
      "outputs": []
    },
    {
      "cell_type": "markdown",
      "metadata": {
        "id": "Z0BlGYqqCsqt"
      },
      "source": [
        "Вивід функції: \n",
        "\n",
        "```\n",
        "{'toks': \n",
        "  [(0, ' '), \n",
        "  (11, 'aa'), \n",
        "  (12, 'bb'), \n",
        "  (21, 'ab'), \n",
        "  (22, 'cc')], \n",
        "'vars': \n",
        "{'A': [['D']], \n",
        " 'C': [['C'], ['A', (22, 'cc')]], \n",
        " 'D': [[(0, ' ')]],\n",
        " 'R': [[(12, 'bb')]]\n",
        " }, \n",
        " 'hvar': 'A'}\n",
        "```\n",
        "Далі нам потрібно створити ще один алгоритм, який прибирає недосяжні нетермінали. Недосяжні нетермінали -- це такі, до яких не можна дістатися, починаючи зі стартового нетерміналу.\n",
        "У циклі функції перебираються нетермінали, і якщо вони є досяжними, то додаються до списку нетерміналів для нової грамматики разом з правилами."
      ]
    },
    {
      "cell_type": "code",
      "metadata": {
        "id": "Q7dPuK_72luj"
      },
      "source": [
        "\n",
        "def deleteNonReachable(grammar):\n",
        "    reachblSymb = searchReachable(grammar)\n",
        "    newVars = dict()\n",
        "    tokens = grammar['toks']\n",
        "    variables = grammar['vars']\n",
        "    for var, definition in variables.items():\n",
        "        if var in reachblSymb:\n",
        "            for rule in definition:\n",
        "                if checkToken(rule, var, reachblSymb):\n",
        "                    if var in newVars.keys():\n",
        "                        newVars[var].append(rule)\n",
        "                else:\n",
        "                    newVars[var] = list()\n",
        "                    newVars[var].append(rule)\n",
        "    print(newVars)\n",
        "    grammar['vars'] = newVars\n",
        "    return grammar\n",
        "    "
      ],
      "execution_count": null,
      "outputs": []
    },
    {
      "cell_type": "markdown",
      "metadata": {
        "id": "dUYMyFhL3GXn"
      },
      "source": [
        "Допоміжна функція, яка шукає досяжні нетермінали. Спочатку досяжним є лише один нетермінал - стартовий. Потім до списку досяжних нетерміналів додається нетермінал, який знаходиться в правилах стартового нетерміналу, бо якщо нетермінал в лівій частині є досяжним, то і нетермінал в правій частині буде досяжним. Далі продивляються по черзі усі інші нетермінали."
      ]
    },
    {
      "cell_type": "code",
      "metadata": {
        "id": "xPcv5C7f4LEJ"
      },
      "source": [
        "\n",
        "def searchReachable(grammar):\n",
        "    reachableSymb = list() \n",
        "    tokens = grammar['toks']\n",
        "    variables = grammar['vars']\n",
        "    reachableSymb.append(grammar['hvar'])\n",
        "    flag = True\n",
        "    while flag:\n",
        "        flag = False\n",
        "        for var, definition in variables.items():\n",
        "          if var in reachableSymb:\n",
        "            for rule in definition:\n",
        "              for elem in rule:\n",
        "                if elem not in tokens and elem not in reachableSymb:\n",
        "                  flag = True\n",
        "                  reachableSymb.append(elem)\n",
        "    return reachableSymb\n",
        "    "
      ],
      "execution_count": null,
      "outputs": []
    },
    {
      "cell_type": "code",
      "metadata": {
        "id": "NyxaNA_I5C0C"
      },
      "source": [
        "Вивід: \n",
        "{'toks': [(0, ' '), (11, 'aa'), (12, 'bb'), (21, 'ab'), (22, 'cc')], 'vars': {'A': [['D']], 'D': [[(0, ' ')]]}, 'hvar': 'A'}"
      ],
      "execution_count": null,
      "outputs": []
    },
    {
      "cell_type": "markdown",
      "metadata": {
        "id": "bZLLBOpD5G2D"
      },
      "source": [
        "Із граматики прибрані недосяжні і непродуктивні символи, тобто тепер вона позбавлена сторонніх символів."
      ]
    },
    {
      "cell_type": "markdown",
      "metadata": {
        "id": "oaMcaiUxDdeL"
      },
      "source": [
        "2) Функція для визначення зникаючих символів.\n",
        "В основу цієї функції полягли допоміжні функції з попереднього завдання(перетерпівши мінімальні зміни).\n",
        "Візьмемо за зникаючий токен (0, ' '). Тоді функція для пошуку нетерміналів, які є зникаючими, має такий алгоритм: перебираються нетермінали і відокремлюються ті, які мають в своїх правилах або зникаючий токен, або/і зникаючий відомий нетермінал.\n"
      ]
    },
    {
      "cell_type": "code",
      "metadata": {
        "id": "4Rwsl4DbELcS"
      },
      "source": [
        "def searchDisappSymb(grammar):\n",
        "    tokens = grammar['toks']\n",
        "    variables = grammar['vars']\n",
        "    emptySymb = list()\n",
        "    flag = True\n",
        "    \n",
        "    while flag:\n",
        "        flag = False\n",
        "        for var, definition in variables.items():\n",
        "            for rule in definition:\n",
        "                if checkToken(rule, tokens[0],emptySymb):\n",
        "                    if var not in emptySymb:\n",
        "                        emptySymb.append(var)\n",
        "                        flag = True\n",
        "    return emptySymb"
      ],
      "execution_count": null,
      "outputs": []
    },
    {
      "cell_type": "markdown",
      "metadata": {
        "id": "CbUBi5lKFDuA"
      },
      "source": [
        "Допоміжна функція виглядає так:"
      ]
    },
    {
      "cell_type": "code",
      "metadata": {
        "id": "el4gG1K-Fa7j"
      },
      "source": [
        "def checkToken(rule, Token, someList):\n",
        "    for partOfRule in rule:\n",
        "        if partOfRule == Token or partOfRule in someList:\n",
        "            pass\n",
        "        else:\n",
        "            return False\n",
        "    return True"
      ],
      "execution_count": null,
      "outputs": []
    },
    {
      "cell_type": "markdown",
      "metadata": {
        "id": "F7Ws2f3dFhUs"
      },
      "source": [
        "Вивід функції: \n",
        "\n",
        "\n",
        "```\n",
        "['D', 'A']\n",
        "```\n",
        "\n"
      ]
    }
  ]
}